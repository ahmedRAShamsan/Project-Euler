{
 "cells": [
  {
   "cell_type": "markdown",
   "metadata": {},
   "source": [
    "# The Problem\n",
    "---\n",
    "A Pythagorean triplet is a set of three natural numbers, a < b < c, for\n",
    "which,\n",
    "                             `a^2 + b^2 = c^2`\n",
    "\n",
    "For example, 3^2 + 4^2 = 9 + 16 = 25 = 5^2.\n",
    "\n",
    "There exists exactly one Pythagorean triplet for which `a + b + c = 1000`.\n",
    "\n",
    "`Find the product abc`."
   ]
  },
  {
   "cell_type": "markdown",
   "metadata": {},
   "source": [
    "# Slow 🐢"
   ]
  },
  {
   "cell_type": "code",
   "execution_count": 36,
   "metadata": {},
   "outputs": [
    {
     "name": "stdout",
     "output_type": "stream",
     "text": [
      "200 * 375 * 425\n",
      "31875000\n"
     ]
    }
   ],
   "source": [
    "# 9,12,15 ==> 36\n",
    "\n",
    "pyth_sum = int(100e6)\n",
    "pyth_sum = 1000\n",
    "\n",
    "for a in range(1, pyth_sum // 2):\n",
    "    \n",
    "    for b in range(a+1, pyth_sum):\n",
    "        c1 = pyth_sum - (a + b)\n",
    "        c2 = (a ** 2 + b ** 2) ** 0.5\n",
    "\n",
    "        if c1 == c2:\n",
    "            print(a, b, c1, sep=\" * \")\n",
    "            print(a * b * c1)\n",
    "            break"
   ]
  },
  {
   "cell_type": "markdown",
   "metadata": {},
   "source": [
    "# Faster ⚡ "
   ]
  },
  {
   "cell_type": "markdown",
   "metadata": {},
   "source": [
    "## The Explanation\n",
    "---\n",
    "![](a_b.jpg)"
   ]
  },
  {
   "cell_type": "code",
   "execution_count": 38,
   "metadata": {},
   "outputs": [
    {
     "name": "stdout",
     "output_type": "stream",
     "text": [
      "2343750 * 48800000 * 48856250\n",
      "5587933593750000000000\n"
     ]
    }
   ],
   "source": [
    "# pyth_sum = int(100e6)\n",
    "pyth_sum = 1000\n",
    "half_pyth_sum = pyth_sum // 2\n",
    "\n",
    "for a in range(1, half_pyth_sum):\n",
    "    \n",
    "    b = int((half_pyth_sum - a) / (1 - a / pyth_sum))\n",
    "    c1 = pyth_sum - (a + b)\n",
    "    c2 = int((a ** 2 + b ** 2) ** 0.5)\n",
    "    \n",
    "    if c1 == c2:\n",
    "        print(a, b, c1, sep=\" * \")\n",
    "        print(a * b * c1)\n",
    "        break\n",
    "    "
   ]
  },
  {
   "cell_type": "markdown",
   "metadata": {},
   "source": [
    "# Faster ⚡⚡ "
   ]
  },
  {
   "cell_type": "markdown",
   "metadata": {},
   "source": [
    "## The Explanation\n",
    "---\n",
    "![](a_sum.jpg)"
   ]
  },
  {
   "cell_type": "code",
   "execution_count": 39,
   "metadata": {},
   "outputs": [
    {
     "name": "stdout",
     "output_type": "stream",
     "text": [
      "200 * 375 * 425\n",
      "31875000\n"
     ]
    }
   ],
   "source": [
    "# 3,4,5 ==> 12\n",
    "# 9,12,15 ==> 36\n",
    "\n",
    "# pyth_sum = int(100e6)\n",
    "pyth_sum = 1000\n",
    "\n",
    "for a in range(1, int(pyth_sum / 3.414) + 1):\n",
    "\n",
    "    b = int((pyth_sum / 2 - a) / (1 - a / pyth_sum))\n",
    "    c1 = pyth_sum - (a + b)\n",
    "    c2 = int((a ** 2 + b ** 2) ** 0.5)\n",
    "\n",
    "    if c1 == c2:\n",
    "        print(a, b, c1, sep=\" * \")\n",
    "        print(a * b * c1)\n",
    "        break"
   ]
  }
 ],
 "metadata": {
  "hide_input": false,
  "kernelspec": {
   "display_name": "Python 3",
   "language": "python",
   "name": "python3"
  },
  "language_info": {
   "codemirror_mode": {
    "name": "ipython",
    "version": 3
   },
   "file_extension": ".py",
   "mimetype": "text/x-python",
   "name": "python",
   "nbconvert_exporter": "python",
   "pygments_lexer": "ipython3",
   "version": "3.7.6"
  },
  "toc": {
   "base_numbering": 1,
   "nav_menu": {},
   "number_sections": true,
   "sideBar": false,
   "skip_h1_title": false,
   "title_cell": "Table of Contents",
   "title_sidebar": "Contents",
   "toc_cell": false,
   "toc_position": {},
   "toc_section_display": true,
   "toc_window_display": false
  }
 },
 "nbformat": 4,
 "nbformat_minor": 4
}
