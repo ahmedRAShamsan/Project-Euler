{
 "cells": [
  {
   "cell_type": "markdown",
   "metadata": {},
   "source": [
    "# Largest product in a grid\n",
    "---\n",
    "<div class=\"problem_content\" role=\"problem\">\n",
    "<p>In the 20×20 grid below, four numbers along a diagonal line have been marked in red.</p>\n",
    "<p style=\"font-family:'courier new';text-align:center;font-size:10pt;\">\n",
    "08 02 22 97 38 15 00 40 00 75 04 05 07 78 52 12 50 77 91 08<br>\n",
    "49 49 99 40 17 81 18 57 60 87 17 40 98 43 69 48 04 56 62 00<br/>\n",
    "81 49 31 73 55 79 14 29 93 71 40 67 53 88 30 03 49 13 36 65<br/>\n",
    "52 70 95 23 04 60 11 42 69 24 68 56 01 32 56 71 37 02 36 91<br/>\n",
    "22 31 16 71 51 67 63 89 41 92 36 54 22 40 40 28 66 33 13 80<br/>\n",
    "24 47 32 60 99 03 45 02 44 75 33 53 78 36 84 20 35 17 12 50<br/>\n",
    "32 98 81 28 64 23 67 10 <span style=\"color:#ff0000;\"><b>26</b></span> 38 40 67 59 54 70 66 18 38 64 70<br/>\n",
    "67 26 20 68 02 62 12 20 95 <span style=\"color:#ff0000;\"><b>63</b></span> 94 39 63 08 40 91 66 49 94 21<br/>\n",
    "24 55 58 05 66 73 99 26 97 17 <span style=\"color:#ff0000;\"><b>78</b></span> 78 96 83 14 88 34 89 63 72<br/>\n",
    "21 36 23 09 75 00 76 44 20 45 35 <span style=\"color:#ff0000;\"><b>14</b></span> 00 61 33 97 34 31 33 95<br/>\n",
    "78 17 53 28 22 75 31 67 15 94 03 80 04 62 16 14 09 53 56 92<br/>\n",
    "16 39 05 42 96 35 31 47 55 58 88 24 00 17 54 24 36 29 85 57<br/>\n",
    "86 56 00 48 35 71 89 07 05 44 44 37 44 60 21 58 51 54 17 58<br/>\n",
    "19 80 81 68 05 94 47 69 28 73 92 13 86 52 17 77 04 89 55 40<br/>\n",
    "04 52 08 83 97 35 99 16 07 97 57 32 16 26 26 79 33 27 98 66<br/>\n",
    "88 36 68 87 57 62 20 72 03 46 33 67 46 55 12 32 63 93 53 69<br/>\n",
    "04 42 16 73 38 25 39 11 24 94 72 18 08 46 29 32 40 62 76 36<br/>\n",
    "20 69 36 41 72 30 23 88 34 62 99 69 82 67 59 85 74 04 36 16<br/>\n",
    "20 73 35 29 78 31 90 01 74 31 49 71 48 86 81 16 23 57 05 54<br/>\n",
    "01 70 54 71 83 51 54 69 16 92 33 48 61 43 52 01 89 19 67 48<br/></br></p>\n",
    "<p>The product of these numbers is 26 × 63 × 78 × 14 = 1788696.</p>\n",
    "<p>What is the greatest product of four adjacent numbers in the same direction (up, down, left, right, or diagonally) in the 20×20 grid?</p>\n",
    "</div>\n"
   ]
  },
  {
   "cell_type": "markdown",
   "metadata": {},
   "source": [
    "# The Explanation\n",
    "---"
   ]
  },
  {
   "cell_type": "code",
   "execution_count": 1,
   "metadata": {
    "scrolled": true
   },
   "outputs": [
    {
     "data": {
      "image/jpeg": "[encoded data removed]",
      "text/html": [
       "\n",
       "        <iframe\n",
       "            width=\"800\"\n",
       "            height=\"400\"\n",
       "            src=\"https://www.youtube.com/embed/YX_OxBfsvbk\"\n",
       "            frameborder=\"0\"\n",
       "            allowfullscreen\n",
       "        ></iframe>\n",
       "        "
      ],
      "text/plain": [
       "<IPython.lib.display.YouTubeVideo at 0x1b879dcbd48>"
      ]
     },
     "execution_count": 1,
     "metadata": {},
     "output_type": "execute_result"
    }
   ],
   "source": [
    "from IPython.display import YouTubeVideo\n",
    "YouTubeVideo('YX_OxBfsvbk', width=800, height=400)"
   ]
  },
  {
   "cell_type": "markdown",
   "metadata": {},
   "source": [
    "# The Code\n",
    "---\n"
   ]
  },
  {
   "cell_type": "code",
   "execution_count": 5,
   "metadata": {
    "code_folding": [
     0,
     18,
     47
    ]
   },
   "outputs": [],
   "source": [
    "def get_horizontal(grid, index, size):\n",
    "    row, column = index\n",
    "    h_mul = 0\n",
    "        \n",
    "    #   : لسنا بحاجة إلى عبارة استثناء لأننا لن نتجاوز أبدًا التالى \n",
    "    # 1) موقع الصف          \n",
    "    # 2) موقع العمود\n",
    "    \n",
    "    # أيضًا إذا كانت النهاية تتعدى النهاية (عدد العناصر في الصف) هذا لن يسبب خطأ\n",
    "\n",
    "    horizontal = grid[row][column: column + size]\n",
    "    if len(horizontal) == size and all(horizontal):\n",
    "        h_mul = 1\n",
    "        for n in horizontal:\n",
    "            h_mul *= n\n",
    "\n",
    "    return h_mul\n",
    "\n",
    "def get_vertical(grid, index, size):\n",
    "    row, column = index\n",
    "    vertical =[]\n",
    "    # ليس من الضرورى ان نجعله 0 لان الدالة سترجع صفر اذا حصل اى خطأ\n",
    "    v_mul = 1\n",
    "    \n",
    "    # هنا نحن بحاجة إلى عبارة استثناء لأننا يمكن ان نتجاوز موقع الصفوف \n",
    "    # وبالتالى هسنقوم بتحديد صف لا يوجد اساسا   \n",
    "    try:\n",
    "        for i in range(size):\n",
    "            element = grid[row + i][column]\n",
    "            # حاصل الضرب سيصبح صفر\n",
    "            if element == 0:\n",
    "                return 0\n",
    "            vertical.append(element)\n",
    "    \n",
    "    except:\n",
    "        return 0\n",
    "    \n",
    "    # :لا نحتاج الى جملة الشرط بالاسفل لأن\n",
    "        # سوف يحدث خطأ فى البرنامج اذا كانت عدد عناصر المجموعة اقل من 4 عناصر  (1 \n",
    "        # 2) سوف ترجع الدالة صفرا اذا كان احد العناصر صفرا\n",
    "\n",
    "    #     if len(horizontal) == size and all(horizontal):\n",
    "    for n in vertical:\n",
    "        v_mul *= n\n",
    "    \n",
    "    return v_mul\n",
    "\n",
    "def get_diagonal(grid, index, size):\n",
    "    row, column = index\n",
    "    \n",
    "    m_diagonal = [] # القطر الرئيسى\n",
    "    s_diagonal = [] # القطر الثانوى\n",
    "    \n",
    "    for i in range(size):\n",
    "        # فحص القطر الرئيسى\n",
    "        try:\n",
    "            m_diagonal.append(grid[row + i][column + i])\n",
    "\n",
    "        except:\n",
    "            m_diagonal=[0]\n",
    "        \n",
    "        # فحص القطر الثانوى\n",
    "        try:\n",
    "            s_diagonal.append(grid[row + i][column - i])\n",
    "\n",
    "        except:\n",
    "            s_diagonal=[0]\n",
    "\n",
    "    m_mul, s_mul  = 0, 0 # حاصل ضرب العناصر\n",
    "    \n",
    "    # ضرب عناصر القطر الرئيسى\n",
    "    if len(m_diagonal) == size and all(m_diagonal):\n",
    "        m_mul = 1\n",
    "        for m in m_diagonal:\n",
    "            m_mul *= m\n",
    "               \n",
    "    # ضرب عناصر القطر الثانوى\n",
    "    if len(s_diagonal) == size and all(s_diagonal):\n",
    "        s_mul = 1\n",
    "        for s in s_diagonal:\n",
    "            s_mul *= s\n",
    "        \n",
    "    return max(m_mul,s_mul)\n",
    "\n",
    "    \n",
    "def max_of(grid, index, size=4):\n",
    "    '''\n",
    "    index : زوج مرتب لكلا من (موقع الصف , موقع العمود)\n",
    "    size  : كمية الاعداد المتجاورة\n",
    "    '''\n",
    "    h_mul = get_horizontal(grid, index, size)\n",
    "    v_mul = get_vertical(grid, index, size)\n",
    "    d_mul = get_diagonal(grid, index, size)\n",
    "    \n",
    "    return max(h_mul,v_mul,d_mul)"
   ]
  },
  {
   "cell_type": "code",
   "execution_count": 6,
   "metadata": {},
   "outputs": [
    {
     "name": "stdout",
     "output_type": "stream",
     "text": [
      "70600674\n"
     ]
    }
   ],
   "source": [
    "grid = '''\n",
    "08 02 22 97 38 15 00 40 00 75 04 05 07 78 52 12 50 77 91 08\n",
    "49 49 99 40 17 81 18 57 60 87 17 40 98 43 69 48 04 56 62 00\n",
    "81 49 31 73 55 79 14 29 93 71 40 67 53 88 30 03 49 13 36 65\n",
    "52 70 95 23 04 60 11 42 69 24 68 56 01 32 56 71 37 02 36 91\n",
    "22 31 16 71 51 67 63 89 41 92 36 54 22 40 40 28 66 33 13 80\n",
    "24 47 32 60 99 03 45 02 44 75 33 53 78 36 84 20 35 17 12 50\n",
    "32 98 81 28 64 23 67 10 26 38 40 67 59 54 70 66 18 38 64 70\n",
    "67 26 20 68 02 62 12 20 95 63 94 39 63 08 40 91 66 49 94 21\n",
    "24 55 58 05 66 73 99 26 97 17 78 78 96 83 14 88 34 89 63 72\n",
    "21 36 23 09 75 00 76 44 20 45 35 14 00 61 33 97 34 31 33 95\n",
    "78 17 53 28 22 75 31 67 15 94 03 80 04 62 16 14 09 53 56 92\n",
    "16 39 05 42 96 35 31 47 55 58 88 24 00 17 54 24 36 29 85 57\n",
    "86 56 00 48 35 71 89 07 05 44 44 37 44 60 21 58 51 54 17 58\n",
    "19 80 81 68 05 94 47 69 28 73 92 13 86 52 17 77 04 89 55 40\n",
    "04 52 08 83 97 35 99 16 07 97 57 32 16 26 26 79 33 27 98 66\n",
    "88 36 68 87 57 62 20 72 03 46 33 67 46 55 12 32 63 93 53 69\n",
    "04 42 16 73 38 25 39 11 24 94 72 18 08 46 29 32 40 62 76 36\n",
    "20 69 36 41 72 30 23 88 34 62 99 69 82 67 59 85 74 04 36 16\n",
    "20 73 35 29 78 31 90 01 74 31 49 71 48 86 81 16 23 57 05 54\n",
    "01 70 54 71 83 51 54 69 16 92 33 48 61 43 52 01 89 19 67 48\n",
    "'''\n",
    "\n",
    "int_grid = []\n",
    "for line in grid.strip().split('\\n'):\n",
    "    numbers = [int(n) for n in line.split()]\n",
    "    int_grid.append(numbers)\n",
    "\n",
    "SIZE = 4\n",
    "dim_grid = len(int_grid)   \n",
    "max_mul = 0\n",
    "for row in range(dim_grid):\n",
    "    for column in range(dim_grid):\n",
    "        mul = max_of(int_grid, (row,column), SIZE)\n",
    "        if mul > max_mul:\n",
    "            max_mul = mul\n",
    "            \n",
    "\n",
    "print(max_mul)\n",
    "    "
   ]
  },
  {
   "cell_type": "code",
   "execution_count": null,
   "metadata": {},
   "outputs": [],
   "source": []
  }
 ],
 "metadata": {
  "hide_input": false,
  "kernelspec": {
   "display_name": "Python 3",
   "language": "python",
   "name": "python3"
  },
  "language_info": {
   "codemirror_mode": {
    "name": "ipython",
    "version": 3
   },
   "file_extension": ".py",
   "mimetype": "text/x-python",
   "name": "python",
   "nbconvert_exporter": "python",
   "pygments_lexer": "ipython3",
   "version": "3.7.6"
  },
  "toc": {
   "base_numbering": 1,
   "nav_menu": {},
   "number_sections": true,
   "sideBar": false,
   "skip_h1_title": false,
   "title_cell": "Table of Contents",
   "title_sidebar": "Contents",
   "toc_cell": false,
   "toc_position": {},
   "toc_section_display": true,
   "toc_window_display": false
  }
 },
 "nbformat": 4,
 "nbformat_minor": 4
}
