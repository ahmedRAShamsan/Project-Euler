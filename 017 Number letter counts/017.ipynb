{
 "cells": [
  {
   "cell_type": "markdown",
   "metadata": {},
   "source": [
    "# Number letter counts\n",
    "---\n",
    "<div class=\"problem_content\" role=\"problem\">\n",
    "<p>If the numbers 1 to 5 are written out in words: one, two, three, four, five, then there are 3 + 3 + 5 + 4 + 4 = 19 letters used in total.</p>\n",
    "<p>If all the numbers from 1 to 1000 (one thousand) inclusive were written out in words, how many letters would be used? </p>\n",
    "<br><p class=\"note\"><b>NOTE:</b> Do not count spaces or hyphens. For example, 342 (three hundred and forty-two) contains 23 letters and 115 (one hundred and fifteen) contains 20 letters. The use of \"and\" when writing out numbers is in compliance with British usage.</p>\n",
    "</br></div>\n"
   ]
  },
  {
   "cell_type": "markdown",
   "metadata": {},
   "source": [
    "# الشرح\n",
    "---\n",
    "![](./en.png)\n"
   ]
  },
  {
   "cell_type": "markdown",
   "metadata": {},
   "source": [
    "# الحل\n",
    "---\n"
   ]
  },
  {
   "cell_type": "code",
   "execution_count": 21,
   "metadata": {},
   "outputs": [],
   "source": [
    "NAMES = {0:0,1: 3, 2: 3, 3: 5, 4: 4, 5: 4, 6: 3, 7: 5, 8: 5, 9: 4,\n",
    "         10:3,11:6,12:6,13:8,14:8,15:7,16:7,17:9,18:8,19:8,\n",
    "         20:6,30:6,40:5,50:5,60:5,70:7,80:6,90:6}\n",
    "\n",
    "hundred_and = 10\n",
    "one_thousand = 11\n",
    "\n",
    "def count_letters():\n",
    "    number=1000\n",
    "    result = 0\n",
    "    \n",
    "    if number < 20 :\n",
    "        print('the number must be bigger than 20')\n",
    "        return None\n",
    "    \n",
    "    ####################  1-9 الآحاد  ############################\n",
    "    n_1_9 =  sum(NAMES[i] for i in range(1,10))\n",
    "\n",
    "    ####################  10-19 العشرات  ########################\n",
    "    n_10_19 = sum(NAMES[i] for i in range(10,20))\n",
    "    \n",
    "    ####################  20-90 العشرات  ########################\n",
    "    n_20_90 = sum(NAMES[i] for i in range(20,100,10))\n",
    "    \n",
    "    ####################  1-99 الأعداد ###########################\n",
    "    n_1_99 = n_1_9 * 9  + n_10_19 + n_20_90 * 10\n",
    "    \n",
    "    #################### 100-900 المئات ########################\n",
    "    unwanted_and = 9 * len('and')\n",
    "    \n",
    "    #100, 200, 300, ...\n",
    "    hundreds = 100 * (n_1_9 + 9 * hundred_and) - unwanted_and\n",
    "    \n",
    "    n_1_999 = n_1_99 + 9 * n_1_99 + hundreds \n",
    "\n",
    "    #################### الآلاف ########################\n",
    "    result += one_thousand + n_1_999\n",
    "    \n",
    "    return result"
   ]
  },
  {
   "cell_type": "code",
   "execution_count": 22,
   "metadata": {},
   "outputs": [
    {
     "name": "stdout",
     "output_type": "stream",
     "text": [
      "CPU times: user 11 µs, sys: 1e+03 ns, total: 12 µs\n",
      "Wall time: 13.8 µs\n"
     ]
    },
    {
     "data": {
      "text/plain": [
       "21124"
      ]
     },
     "execution_count": 22,
     "metadata": {},
     "output_type": "execute_result"
    }
   ],
   "source": [
    "%time count_letters()"
   ]
  },
  {
   "cell_type": "code",
   "execution_count": null,
   "metadata": {},
   "outputs": [],
   "source": []
  }
 ],
 "metadata": {
  "kernelspec": {
   "display_name": "Python 3",
   "language": "python",
   "name": "python3"
  },
  "language_info": {
   "codemirror_mode": {
    "name": "ipython",
    "version": 3
   },
   "file_extension": ".py",
   "mimetype": "text/x-python",
   "name": "python",
   "nbconvert_exporter": "python",
   "pygments_lexer": "ipython3",
   "version": "3.7.6"
  }
 },
 "nbformat": 4,
 "nbformat_minor": 4
}
