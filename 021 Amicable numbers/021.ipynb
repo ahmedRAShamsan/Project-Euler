{
 "cells": [
  {
   "cell_type": "markdown",
   "metadata": {},
   "source": [
    "# Amicable numbers\n",
    "---\n",
    "<div class=\"problem_content\" role=\"problem\">\n",
    "<p>Let d(<i>n</i>) be defined as the sum of proper divisors of <i>n</i> (numbers less than <i>n</i> which divide evenly into <i>n</i>).<br>\n",
    "If d(<i>a</i>) = <i>b</i> and d(<i>b</i>) = <i>a</i>, where <i>a</i> ≠ <i>b</i>, then <i>a</i> and <i>b</i> are an amicable pair and each of <i>a</i> and <i>b</i> are called amicable numbers.</br></p>\n",
    "<p>For example, the proper divisors of 220 are 1, 2, 4, 5, 10, 11, 20, 22, 44, 55 and 110; therefore d(220) = 284. The proper divisors of 284 are 1, 2, 4, 71 and 142; so d(284) = 220.</p>\n",
    "<p>Evaluate the sum of all the amicable numbers under 10000.</p>\n",
    "</div>\n"
   ]
  },
  {
   "cell_type": "markdown",
   "metadata": {},
   "source": [
    "# The Explanation\n",
    "---\n",
    "**a**|**b**\n",
    "--|--\n",
    "220|284\n",
    "1184|1210\n"
   ]
  },
  {
   "cell_type": "markdown",
   "metadata": {},
   "source": [
    "# The Code\n",
    "---\n"
   ]
  },
  {
   "cell_type": "code",
   "execution_count": 16,
   "metadata": {
    "code_folding": [
     0
    ]
   },
   "outputs": [],
   "source": [
    "def d(n):\n",
    "    if n < 2:\n",
    "        return 0\n",
    "    \n",
    "    f = 2\n",
    "    total = 1\n",
    "    while f**2 <= n:\n",
    "        if n % f == 0:\n",
    "            total += f\n",
    "            other = n // f\n",
    "            if other > f:\n",
    "                total += other\n",
    "\n",
    "        f += 1\n",
    "    \n",
    "    return total\n",
    "\n",
    "\n",
    "def start(limit=10000):\n",
    "    result = 0\n",
    "    for n in range(int(limit)):\n",
    "        d_n = d(n)\n",
    "        if d_n == n:\n",
    "            continue\n",
    "            \n",
    "        d_d_n = d(d_n) \n",
    "        if d_d_n == d_n:\n",
    "            continue\n",
    "        \n",
    "        if d_d_n == n:\n",
    "            result += n\n",
    "\n",
    "    \n",
    "    return result"
   ]
  },
  {
   "cell_type": "code",
   "execution_count": 18,
   "metadata": {},
   "outputs": [
    {
     "name": "stdout",
     "output_type": "stream",
     "text": [
      "CPU times: user 358 ms, sys: 5 µs, total: 358 ms\n",
      "Wall time: 356 ms\n"
     ]
    },
    {
     "data": {
      "text/plain": [
       "31626"
      ]
     },
     "execution_count": 18,
     "metadata": {},
     "output_type": "execute_result"
    }
   ],
   "source": [
    "%time start()"
   ]
  },
  {
   "cell_type": "code",
   "execution_count": null,
   "metadata": {},
   "outputs": [],
   "source": []
  }
 ],
 "metadata": {
  "kernelspec": {
   "display_name": "Python 3",
   "language": "python",
   "name": "python3"
  },
  "language_info": {
   "codemirror_mode": {
    "name": "ipython",
    "version": 3
   },
   "file_extension": ".py",
   "mimetype": "text/x-python",
   "name": "python",
   "nbconvert_exporter": "python",
   "pygments_lexer": "ipython3",
   "version": "3.7.6"
  }
 },
 "nbformat": 4,
 "nbformat_minor": 4
}
