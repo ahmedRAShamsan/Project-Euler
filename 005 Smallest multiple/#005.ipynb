{
 "cells": [
  {
   "cell_type": "markdown",
   "metadata": {},
   "source": [
    "# The Problem\n",
    "---\n",
    "2520 is the smallest number that can be divided by each of the numbers from 1 to 10 without any remainder.\n",
    "\n",
    "What is the smallest positive number that is evenly divisible by all of the numbers from 1 to 20?\n"
   ]
  },
  {
   "cell_type": "markdown",
   "metadata": {},
   "source": [
    "# The Explanation\n",
    "---\n",
    "## See [This Video](https://www.youtube.com/watch?v=7l1yor1gEFI&list=PLO1D3YWS7ep3Zrh8B4SrhIsyxneg23x29&index=5&t=0s)"
   ]
  },
  {
   "cell_type": "markdown",
   "metadata": {},
   "source": [
    "# The Code"
   ]
  },
  {
   "cell_type": "code",
   "execution_count": null,
   "metadata": {
    "code_folding": [
     1,
     15,
     28
    ]
   },
   "outputs": [],
   "source": [
    "def is_prime(n):\n",
    "    if n == 0 or n == 1:\n",
    "        return False\n",
    "\n",
    "    i = 2\n",
    "    while i ** 2 <= n:\n",
    "        if n % i == 0:\n",
    "            return False\n",
    "\n",
    "        i += 1\n",
    "\n",
    "    return True\n",
    "\n",
    "def primes_mutiples_until(end):\n",
    "    primes, multiples = [], []\n",
    "\n",
    "    for i in range(2, end+1):\n",
    "\n",
    "        if is_prime(i):\n",
    "            primes.append(i)\n",
    "        else:\n",
    "            multiples.append(i)\n",
    "\n",
    "    return primes, multiples\n",
    "\n",
    "def get_smallest_multiple(end):\n",
    "    the_number = 1\n",
    "    primes, multiples = primes_mutiples_until(end)\n",
    "\n",
    "    for p in primes:\n",
    "        the_number *= p\n",
    "\n",
    "    for m in multiples:\n",
    "        reminder = the_number % m\n",
    "        if reminder != 0:\n",
    "            if is_prime(reminder):\n",
    "                the_number *= reminder\n",
    "            else:\n",
    "                for p in primes:\n",
    "                    if reminder % p == 0:\n",
    "                        the_number *= p\n",
    "                        break\n",
    "\n",
    "    return the_number\n",
    "\n",
    "end = 20\n",
    "print(get_smallest_multiple(end))\n"
   ]
  }
 ],
 "metadata": {
  "hide_input": false,
  "kernelspec": {
   "display_name": "Python 3",
   "language": "python",
   "name": "python3"
  },
  "language_info": {
   "codemirror_mode": {
    "name": "ipython",
    "version": 3
   },
   "file_extension": ".py",
   "mimetype": "text/x-python",
   "name": "python",
   "nbconvert_exporter": "python",
   "pygments_lexer": "ipython3",
   "version": "3.7.6"
  },
  "toc": {
   "base_numbering": 1,
   "nav_menu": {},
   "number_sections": true,
   "sideBar": false,
   "skip_h1_title": false,
   "title_cell": "Table of Contents",
   "title_sidebar": "Contents",
   "toc_cell": false,
   "toc_position": {},
   "toc_section_display": true,
   "toc_window_display": false
  }
 },
 "nbformat": 4,
 "nbformat_minor": 4
}
