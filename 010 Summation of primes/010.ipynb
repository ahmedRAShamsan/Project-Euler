{
 "cells": [
  {
   "cell_type": "markdown",
   "metadata": {},
   "source": [
    "# Summation of primes\n",
    "---\n",
    "<div class=\"problem_content\" role=\"problem\">\n",
    "<p>The sum of the primes below 10 is 2 + 3 + 5 + 7 = 17.</p>\n",
    "<p>Find the sum of all the primes <code>below two million</code>.</p>\n",
    "</div>\n"
   ]
  },
  {
   "cell_type": "markdown",
   "metadata": {},
   "source": [
    "# The Explanation\n",
    "---\n",
    "![](way.gif)\n"
   ]
  },
  {
   "cell_type": "markdown",
   "metadata": {},
   "source": [
    "# Faster ⚡"
   ]
  },
  {
   "cell_type": "code",
   "execution_count": 21,
   "metadata": {},
   "outputs": [
    {
     "name": "stdout",
     "output_type": "stream",
     "text": [
      "142913828922\n",
      "Wall time: 545 ms\n"
     ]
    }
   ],
   "source": [
    "def m0(n):\n",
    "    primes = [True] * n \n",
    "    primes[0], primes[1] =  False, False # number 0 and 1\n",
    "\n",
    "    for p in range(2, int(n ** 0.5) + 1):\n",
    "        if primes[p]:\n",
    "           number_of_multiples = len(primes[p*p::p])\n",
    "           primes[p*p::p] = [False] * number_of_multiples\n",
    "\n",
    "    return sum([i*number for i,number in enumerate(primes)])\n",
    "\n",
    "n = 2e6\n",
    "%time print(m0(int(n)))"
   ]
  },
  {
   "cell_type": "markdown",
   "metadata": {},
   "source": [
    "# Faster ⚡⚡"
   ]
  },
  {
   "cell_type": "code",
   "execution_count": 24,
   "metadata": {
    "code_folding": []
   },
   "outputs": [
    {
     "name": "stdout",
     "output_type": "stream",
     "text": [
      "142913828922\n",
      "Wall time: 440 ms\n"
     ]
    }
   ],
   "source": [
    "def m1(n):\n",
    "    primes = [True] * n \n",
    "    primes[0], primes[1] =  False, False # number 0 and 1\n",
    "\n",
    "    # Changes\n",
    "    #============\n",
    "    number_of_multiples = len(primes[4::2])       \n",
    "    primes[4::2] = [False] * number_of_multiples\n",
    "\n",
    "    for p in range(3, int(n ** 0.5) + 1, 2):\n",
    "        if primes[p]:\n",
    "           number_of_multiples = len(primes[p*p::p * 2])\n",
    "           primes[p*p::p * 2] = [False] * number_of_multiples\n",
    "\n",
    "    \n",
    "    return sum([i*number for i,number in enumerate(primes)])\n",
    "\n",
    "n = 2e6\n",
    "%time print(m1(int(n)))"
   ]
  },
  {
   "cell_type": "markdown",
   "metadata": {},
   "source": [
    "# The Explanation\n",
    "---\n",
    "## [متسلسلة حسابية](https://ar.wikipedia.org/wiki/%D9%85%D8%AA%D8%AA%D8%A7%D9%84%D9%8A%D8%A9_%D8%AD%D8%B3%D8%A7%D8%A8%D9%8A%D8%A9)\n",
    "\n",
    "![](law.jpg)\n"
   ]
  },
  {
   "cell_type": "markdown",
   "metadata": {},
   "source": [
    "# Faster ⚡⚡⚡"
   ]
  },
  {
   "cell_type": "code",
   "execution_count": 27,
   "metadata": {},
   "outputs": [
    {
     "name": "stdout",
     "output_type": "stream",
     "text": [
      "142913828922\n",
      "Wall time: 311 ms\n"
     ]
    }
   ],
   "source": [
    "def m2(n):\n",
    "    primes = [False, True] * (n // 2) + [False]\n",
    "    primes[1], primes[2] =  False, True\n",
    "\n",
    "    for p in range(3, int(n ** 0.5) + 1, 2):\n",
    "        if primes[p]:\n",
    "            number_of_multiples = ((n-p*p) // (2*p)) + 1\n",
    "            try:\n",
    "                primes[p*p::p * 2] = [False] * number_of_multiples\n",
    "            except:\n",
    "                break\n",
    "                \n",
    "    return sum([i*number for i,number in enumerate(primes)])\n",
    "\n",
    "\n",
    "n = 2e6\n",
    "%time print(m2(int(n)))"
   ]
  },
  {
   "cell_type": "code",
   "execution_count": null,
   "metadata": {},
   "outputs": [],
   "source": []
  }
 ],
 "metadata": {
  "hide_input": false,
  "kernelspec": {
   "display_name": "Python 3",
   "language": "python",
   "name": "python3"
  },
  "language_info": {
   "codemirror_mode": {
    "name": "ipython",
    "version": 3
   },
   "file_extension": ".py",
   "mimetype": "text/x-python",
   "name": "python",
   "nbconvert_exporter": "python",
   "pygments_lexer": "ipython3",
   "version": "3.7.6"
  },
  "toc": {
   "base_numbering": 1,
   "nav_menu": {},
   "number_sections": true,
   "sideBar": false,
   "skip_h1_title": false,
   "title_cell": "Table of Contents",
   "title_sidebar": "Contents",
   "toc_cell": false,
   "toc_position": {},
   "toc_section_display": true,
   "toc_window_display": false
  }
 },
 "nbformat": 4,
 "nbformat_minor": 4
}
