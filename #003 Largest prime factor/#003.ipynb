{
 "cells": [
  {
   "cell_type": "markdown",
   "metadata": {},
   "source": [
    "# The Problem\n",
    "---\n",
    "The prime factors of 13195 are 5, 7, 13 and 29.\n",
    "\n",
    "What is the largest prime factor of the number 600851475143 ?"
   ]
  },
  {
   "cell_type": "markdown",
   "metadata": {},
   "source": [
    "# Explanation\n",
    "---\n",
    "\\begin{align}\n",
    "\\LARGE{\\text{1- The Prime Numbers}}\n",
    "\\end{align}\n",
    "\n",
    "\\begin{align}\n",
    "2,3,5,7,11,13,17,19,23,...\n",
    "\\end{align}\n",
    "\n",
    "---\n",
    "\\begin{align}\n",
    "\\LARGE{\\text{2- Any Number is The Reslut of Multiplying Prime Numbers}}\n",
    "\\end{align}\n",
    "\n",
    "\\begin{align}\n",
    "12 = 2 \\times 2 \\times 3 \\quad\\quad ====> \\quad\\quad \\text{2 and 3 are primes}\n",
    "\\end{align}\n",
    "\n",
    "\\begin{align}\n",
    "115 = 5 \\times 23 \\quad\\quad ====> \\quad\\quad \\text{5 and 23 are primes}\n",
    "\\end{align}\n",
    "\n",
    "---\n",
    "\n",
    "\\begin{align}\n",
    "\\LARGE{\\text{3- The Square Root Base}}\n",
    "\\end{align}\n",
    "\n",
    "every pair of different factors that multiply together to make the number will consist of `one factor less than the square root and another greater`. (If both factors are the same, they are the square root.)\n",
    "\n",
    "---\n",
    "\n"
   ]
  },
  {
   "cell_type": "markdown",
   "metadata": {},
   "source": [
    "# The Code"
   ]
  },
  {
   "cell_type": "code",
   "execution_count": 6,
   "metadata": {},
   "outputs": [
    {
     "name": "stdout",
     "output_type": "stream",
     "text": [
      "The Number: 600851475143\n",
      "600851475143 / 71\n",
      "8462696833.0 / 839\n",
      "10086647.0 / 1471\n",
      "6857.0\n"
     ]
    }
   ],
   "source": [
    "number = int(input(\"The Number: \"))\n",
    "factor = 2\n",
    "largest_factor = 0\n",
    "\n",
    "while factor ** 2 <= number:\n",
    "    if number % factor == 0:\n",
    "        print(number, '/ %s' % factor)\n",
    "        number = number / factor\n",
    "        largest_factor = factor\n",
    "\n",
    "    else:\n",
    "        if factor == 2:\n",
    "            factor = 3\n",
    "        else:\n",
    "            factor += 2\n",
    "\n",
    "if number > factor:\n",
    "    largest_factor = number\n",
    "\n",
    "print(largest_factor)"
   ]
  },
  {
   "cell_type": "code",
   "execution_count": null,
   "metadata": {},
   "outputs": [],
   "source": []
  }
 ],
 "metadata": {
  "hide_input": false,
  "kernelspec": {
   "display_name": "Python 3",
   "language": "python",
   "name": "python3"
  },
  "language_info": {
   "codemirror_mode": {
    "name": "ipython",
    "version": 3
   },
   "file_extension": ".py",
   "mimetype": "text/x-python",
   "name": "python",
   "nbconvert_exporter": "python",
   "pygments_lexer": "ipython3",
   "version": "3.7.6"
  },
  "toc": {
   "base_numbering": 1,
   "nav_menu": {},
   "number_sections": true,
   "sideBar": false,
   "skip_h1_title": false,
   "title_cell": "Table of Contents",
   "title_sidebar": "Contents",
   "toc_cell": false,
   "toc_position": {},
   "toc_section_display": true,
   "toc_window_display": false
  }
 },
 "nbformat": 4,
 "nbformat_minor": 4
}
