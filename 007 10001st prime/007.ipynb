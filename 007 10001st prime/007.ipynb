{
 "cells": [
  {
   "cell_type": "markdown",
   "metadata": {},
   "source": [
    "# The Problem\n",
    "---\n",
    "By listing the first six prime numbers: 2, 3, 5, 7, 11, and 13, we can see\n",
    "that the 6th prime is 13.\n",
    "\n",
    "What is the `10001st prime` number?"
   ]
  },
  {
   "cell_type": "markdown",
   "metadata": {},
   "source": [
    "# The Code"
   ]
  },
  {
   "cell_type": "code",
   "execution_count": null,
   "metadata": {
    "code_folding": [
     13
    ]
   },
   "outputs": [],
   "source": [
    "#! NEVER USE AND INCREAS BY 2\n",
    "#! ==============\n",
    "# i = 1\n",
    "# n = 2\n",
    "#! ==============\n",
    "\n",
    "i = 2\n",
    "n = 3\n",
    "\n",
    "# i = 1000\n",
    "# n = 7919\n",
    "index = 10001\n",
    "\n",
    "def is_prime(number):\n",
    "    if number % 2 == 0:\n",
    "        return False\n",
    "\n",
    "    f = 3\n",
    "    while f**2 <= number:\n",
    "        if number % f == 0:\n",
    "            return False\n",
    "        f += 2\n",
    "\n",
    "    return True\n",
    "\n",
    "\n",
    "while i < index:\n",
    "    n += 2\n",
    "\n",
    "    if is_prime(n):\n",
    "        i += 1\n",
    "\n",
    "\n",
    "print(n)"
   ]
  }
 ],
 "metadata": {
  "hide_input": false,
  "kernelspec": {
   "display_name": "Python 3",
   "language": "python",
   "name": "python3"
  },
  "language_info": {
   "codemirror_mode": {
    "name": "ipython",
    "version": 3
   },
   "file_extension": ".py",
   "mimetype": "text/x-python",
   "name": "python",
   "nbconvert_exporter": "python",
   "pygments_lexer": "ipython3",
   "version": "3.7.6"
  },
  "toc": {
   "base_numbering": 1,
   "nav_menu": {},
   "number_sections": true,
   "sideBar": false,
   "skip_h1_title": false,
   "title_cell": "Table of Contents",
   "title_sidebar": "Contents",
   "toc_cell": false,
   "toc_position": {},
   "toc_section_display": true,
   "toc_window_display": false
  }
 },
 "nbformat": 4,
 "nbformat_minor": 4
}
