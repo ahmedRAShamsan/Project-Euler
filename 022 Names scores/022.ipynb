{
 "cells": [
  {
   "cell_type": "markdown",
   "metadata": {},
   "source": [
    "# Names scores\n",
    "---\n",
    "<div class=\"problem_content\" role=\"problem\">\n",
    "<p>Using <a href=\"names.txt\">names.txt</a> (right click and 'Save Link/Target As...'), a 46K text file containing over five-thousand first names, begin by sorting it into alphabetical order. Then working out the alphabetical value for each name, multiply this value by its alphabetical position in the list to obtain a name score.</p>\n",
    "<p>For example, when the list is sorted into alphabetical order, COLIN, which is worth 3 + 15 + 12 + 9 + 14 = 53, is the 938th name in the list. So, COLIN would obtain a score of 938 × 53 = 49714.</p>\n",
    "<p>What is the total of all the name scores in the file?</p>\n",
    "</div>\n"
   ]
  },
  {
   "cell_type": "markdown",
   "metadata": {},
   "source": [
    "# الكود\n",
    "---"
   ]
  },
  {
   "cell_type": "code",
   "execution_count": 23,
   "metadata": {
    "code_folding": [
     4
    ]
   },
   "outputs": [],
   "source": [
    "import string\n",
    "alphabet_list = list(string.ascii_uppercase)\n",
    "\n",
    "\n",
    "def extract_names_from(file_path):\n",
    "    \"\"\"\n",
    "    الدالة تقوم باستخراج الاسماء من الملف المعطى\n",
    "    \"\"\"\n",
    "    names = None\n",
    "    \n",
    "    with open(file_path) as file:\n",
    "        # name[1:-1] حتى لا ندرج علامات التنصيص فى الاسم\n",
    "        names = [name[1:-1] for name in file.read().split(',')]\n",
    "    \n",
    "    # ترتيب الاسماء ابجديا دون الحاجة لانشاء مجموعة جديدة\n",
    "    names.sort()\n",
    "    \n",
    "    return names \n",
    "\n",
    "def calc_names_in_file(path):\n",
    "    \"\"\"\n",
    "    الدالة تقوم بارجاع مجموع الارقام الموافقة لكل اسم فى الملف المعطى\n",
    "    \"\"\"\n",
    "    \n",
    "    names_list = extract_names_from(path)\n",
    "    sum_file = 0\n",
    "    for rank, name in enumerate(names_list):\n",
    "        # مجموع ترتيب حروف الاسم\n",
    "        name_total = 0\n",
    "        for letter in name:\n",
    "            #  اضف واحد لان الترتيب يبدا من رقم صفر\n",
    "            # بينما الترتيب فى السئال يبدأ من رقم 1\n",
    "            name_total += (alphabet_list.index(letter) + 1)\n",
    "\n",
    "        # اضف واحد لان الترتيب يبدا من رقم صفر\n",
    "        # بينما الترتيب فى السئال يبدأ من رقم 1\n",
    "        sum_file += name_total * (rank + 1)\n",
    "\n",
    "    print(sum_file)\n"
   ]
  },
  {
   "cell_type": "code",
   "execution_count": 24,
   "metadata": {
    "code_folding": []
   },
   "outputs": [
    {
     "name": "stdout",
     "output_type": "stream",
     "text": [
      "871198282\n",
      "CPU times: user 11.5 ms, sys: 0 ns, total: 11.5 ms\n",
      "Wall time: 10.8 ms\n"
     ]
    }
   ],
   "source": [
    "%time calc_names_in_file('./names.txt')"
   ]
  },
  {
   "cell_type": "code",
   "execution_count": null,
   "metadata": {},
   "outputs": [],
   "source": []
  }
 ],
 "metadata": {
  "kernelspec": {
   "display_name": "Python 3",
   "language": "python",
   "name": "python3"
  },
  "language_info": {
   "codemirror_mode": {
    "name": "ipython",
    "version": 3
   },
   "file_extension": ".py",
   "mimetype": "text/x-python",
   "name": "python",
   "nbconvert_exporter": "python",
   "pygments_lexer": "ipython3",
   "version": "3.7.6"
  }
 },
 "nbformat": 4,
 "nbformat_minor": 4
}
