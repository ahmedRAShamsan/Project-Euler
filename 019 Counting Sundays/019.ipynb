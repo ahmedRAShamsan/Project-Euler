{
 "cells": [
  {
   "cell_type": "markdown",
   "metadata": {},
   "source": [
    "# Counting Sundays\n",
    "---\n",
    "<div class=\"problem_content\" role=\"problem\">\n",
    "<p>You are given the following information, but you may prefer to do some research for yourself.</p>\n",
    "<ul><li>1 Jan 1900 was a Monday.</li>\n",
    "<li>Thirty days has September,<br>\n",
    "April, June and November.<br/>\n",
    "All the rest have thirty-one,<br/>\n",
    "Saving February alone,<br/>\n",
    "Which has twenty-eight, rain or shine.<br/>\n",
    "And on leap years, twenty-nine.</br></li>\n",
    "<li>A leap year occurs on any year evenly divisible by 4, but not on a century unless it is divisible by 400.</li>\n",
    "</ul><p>How many Sundays fell on the first of the month during the twentieth century (1 Jan 1901 to 31 Dec 2000)?</p>\n",
    "</div>\n"
   ]
  },
  {
   "cell_type": "markdown",
   "metadata": {},
   "source": [
    "# الشرح\n",
    "---\n",
    "## [حساب السنة الكبيسة](https://www.wikihow.com/Calculate-Leap-Years)\n"
   ]
  },
  {
   "cell_type": "markdown",
   "metadata": {},
   "source": [
    "# الحل\n",
    "---\n"
   ]
  },
  {
   "cell_type": "code",
   "execution_count": 35,
   "metadata": {
    "code_folding": [
     2,
     14
    ]
   },
   "outputs": [
    {
     "name": "stdout",
     "output_type": "stream",
     "text": [
      "171\n",
      "CPU times: user 1.7 ms, sys: 0 ns, total: 1.7 ms\n",
      "Wall time: 1.67 ms\n"
     ]
    }
   ],
   "source": [
    "import calendar\n",
    "\n",
    "def is_leap(year):\n",
    "    if year % 4 != 0:\n",
    "        return False\n",
    "    \n",
    "    if year % 100 != 0:\n",
    "        return True\n",
    "    \n",
    "    if year % 400 != 0:\n",
    "        return False\n",
    "    \n",
    "    return True\n",
    "\n",
    "def how_many(day_name, start_year, end_year):\n",
    "    \"\"\"\n",
    "    الدالة ترجع كم مرة تكرر اليوم المعطى لها فى الفترة الزمنية المعطاة\n",
    "    \"\"\"\n",
    "    occurrence = 0\n",
    "    for year in range(start_year, end_year + 1):\n",
    "        for month in range(1, 13):\n",
    "            start_day, number_of_days = calendar.monthrange(year, month)\n",
    "            \n",
    "            if day_name < start_day: \n",
    "                wanted_day_date = ((day_name + 7) - start_day) + 1\n",
    "            else:    \n",
    "                wanted_day_date = (day_name - start_day) + 1\n",
    "            \n",
    "            while number_of_days >= wanted_day_date:\n",
    "                occurrence += 1\n",
    "                wanted_day_date += 7                \n",
    "    \n",
    "    return occurrence\n",
    "\n",
    "\n",
    "\n",
    "def starts_with(day_name, start_year, end_year):\n",
    "    \"\"\"\n",
    "    الدالة ترجع عدد الشهور التى تبدأ باليوم المعطى لها فى الفترة الزمنية المعطاة\n",
    "    \"\"\"\n",
    "    number_of_months = 0\n",
    "    for year in range(start_year, end_year + 1):\n",
    "        for month in range(1, 13):\n",
    "            start_day, number_of_days = calendar.monthrange(year, month)\n",
    "            \n",
    "            if start_day == day_name:\n",
    "                number_of_months +=1\n",
    "                \n",
    "    return number_of_months\n",
    "\n",
    "\n",
    "\n",
    "start_year , end_year = 1901, 2000\n",
    "day = {\n",
    "    'mon':0,\n",
    "    'tue':1,\n",
    "    'wed':2,\n",
    "    'thu':3,\n",
    "    'fri':4,\n",
    "    'sat':5,\n",
    "    'sun':6\n",
    "}\n",
    "        \n",
    "%time print(starts_with(day['sun'], start_year, end_year))"
   ]
  }
 ],
 "metadata": {
  "kernelspec": {
   "display_name": "Python 3",
   "language": "python",
   "name": "python3"
  },
  "language_info": {
   "codemirror_mode": {
    "name": "ipython",
    "version": 3
   },
   "file_extension": ".py",
   "mimetype": "text/x-python",
   "name": "python",
   "nbconvert_exporter": "python",
   "pygments_lexer": "ipython3",
   "version": "3.7.6"
  }
 },
 "nbformat": 4,
 "nbformat_minor": 4
}
