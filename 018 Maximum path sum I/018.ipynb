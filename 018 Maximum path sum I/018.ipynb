{
 "cells": [
  {
   "cell_type": "markdown",
   "metadata": {},
   "source": [
    "# Maximum path sum I\n",
    "---\n",
    "<div class=\"problem_content\" role=\"problem\">\n",
    "<p>By starting at the top of the triangle below and moving to adjacent numbers on the row below, the maximum total from top to bottom is 23.</p>\n",
    "<p style=\"text-align:center;font-family:'courier new';font-size:12pt;\"><span style=\"color:#ff0000;\"><b>3</b></span><br><span style=\"color:#ff0000;\"><b>7</b></span> 4<br/>\n",
    "2 <span style=\"color:#ff0000;\"><b>4</b></span> 6<br/>\n",
    "8 5 <span style=\"color:#ff0000;\"><b>9</b></span> 3</br></p>\n",
    "<p>That is, 3 + 7 + 4 + 9 = 23.</p>\n",
    "<p>Find the maximum total from top to bottom of the triangle below:</p>\n",
    "<p style=\"text-align:center;font-family:'courier new';\">75<br/>\n",
    "95 64<br/>\n",
    "17 47 82<br/>\n",
    "18 35 87 10<br/>\n",
    "20 04 82 47 65<br/>\n",
    "19 01 23 75 03 34<br/>\n",
    "88 02 77 73 07 63 67<br/>\n",
    "99 65 04 28 06 16 70 92<br/>\n",
    "41 41 26 56 83 40 80 70 33<br/>\n",
    "41 48 72 33 47 32 37 16 94 29<br/>\n",
    "53 71 44 65 25 43 91 52 97 51 14<br/>\n",
    "70 11 33 28 77 73 17 78 39 68 17 57<br/>\n",
    "91 71 52 38 17 14 91 43 58 50 27 29 48<br/>\n",
    "63 66 04 68 89 53 67 30 73 16 69 87 40 31<br/>\n",
    "04 62 98 27 23 09 70 98 73 93 38 53 60 04 23</p>\n",
    "<p class=\"note\"><b>NOTE:</b> As there are only 16384 routes, it is possible to solve this problem by trying every route. However, <a href=\"https://projecteuler.net/problem=67\">Problem 67</a>, is the same challenge with a triangle containing one-hundred rows; it cannot be solved by brute force, and requires a clever method! ;o)</p>\n",
    "</div>\n"
   ]
  },
  {
   "cell_type": "markdown",
   "metadata": {},
   "source": [
    "# الشرح\n",
    "---\n",
    "\n",
    "<p style=\"text-align:center;font-family:'courier new';font-size:15pt;\">\n",
    "<span style=\"color:#ff0000;\"><b>3</b></span>\n",
    "<br>7 <span style=\"color:#ff0000;\"><b>6</b></span><br/>\n",
    "2 4 <span style=\"color:#ff0000;\"><b>6</b></span><br/>\n",
    "8 5 <span style=\"color:#ff0000;\"><b>9</b></span> 3</br></p>\n",
    "<p>3 + 6 + 6 + 9 = 24.</p>\n",
    "\n",
    "<br>\n",
    "🛩🛩🛩🛩🛩🛩🛩🛩🛩🛩🛩🛩🛩🛩🛩🛩🛩🛩🛩🛩🛩🛩🛩🛩🛩🛩🛩🛩🛩🛩🛩🛩🛩🛩🛩🛩🛩🛩🛩🛩🛩🛩🛩🛩\n",
    "\n",
    "10 9 \n",
    "<br>\n",
    "<br>\n",
    "12 14 13 15  ==> يتم الغاء طريق 3-6-4\n",
    "<br>\n",
    "     🔽\n",
    "<br>\n",
    "12  14  15 \n",
    "<br>\n",
    "<br>\n",
    "20 17 19 23 24 18\n",
    "<br>\n",
    "<br>\n",
    "             🔽\n",
    "<br>\n",
    "<br>\n",
    "             24\n"
   ]
  },
  {
   "cell_type": "code",
   "execution_count": 4,
   "metadata": {},
   "outputs": [
    {
     "data": {
      "image/jpeg": "[encoded data removed]",
      "text/html": [
       "\n",
       "        <iframe\n",
       "            width=\"700\"\n",
       "            height=\"500\"\n",
       "            src=\"https://www.youtube.com/embed/z-AOWBztnpI\"\n",
       "            frameborder=\"0\"\n",
       "            allowfullscreen\n",
       "        ></iframe>\n",
       "        "
      ],
      "text/plain": [
       "<IPython.lib.display.YouTubeVideo at 0x7f47c34d6510>"
      ]
     },
     "execution_count": 4,
     "metadata": {},
     "output_type": "execute_result"
    }
   ],
   "source": [
    "from IPython.display import YouTubeVideo\n",
    "\n",
    "YouTubeVideo('z-AOWBztnpI', width=700, height=500)"
   ]
  },
  {
   "cell_type": "markdown",
   "metadata": {},
   "source": [
    "# الحل\n",
    "---\n"
   ]
  },
  {
   "cell_type": "code",
   "execution_count": 33,
   "metadata": {
    "code_folding": []
   },
   "outputs": [],
   "source": [
    "from pprint import pprint\n",
    "\n",
    "def get_rows_from_file(file_path):\n",
    "    file = open(file_path, 'r')\n",
    "    rows = [line.strip().split(' ') for line in file.readlines()]\n",
    "    file.close()\n",
    "    return rows\n",
    "\n",
    "def max_path_sum_in_file(file_path):\n",
    "    all_rows = get_rows_from_file(file_path)\n",
    "\n",
    "    # أول صف فوق\n",
    "    # لازم نحوله لرقم لانه تم قرأته من الملف على هيئة نص\n",
    "    # list وكمان نخليه داخل \n",
    "    # عشان تبقى الفاعدة عامة فى حالة وجود اكتر من اب \n",
    "    rows_sum = [int(all_rows[0][0])]\n",
    "#     pprint(rows)\n",
    "\n",
    "    for row in all_rows[1:]: # ابدأ من الصف الثانى\n",
    "        current_row_sum = [] # \n",
    "        for indx, number in enumerate(row):\n",
    "            # [-لأن الاباء سيكونوا من  [1:1\n",
    "            # وهذا خطأ\n",
    "            if indx == 0: \n",
    "                current_row_sum.append(int(number) + rows_sum[indx])\n",
    "        \n",
    "            else:\n",
    "                parents = rows_sum[indx-1: indx + 1]\n",
    "                # لابد من أخذ اكبر الاباء اذا وجد اكتر من اب \n",
    "                # لالغاء المسار ذو المجموع القليل\n",
    "                current_row_sum.append(int(number) + max(parents))\n",
    "\n",
    "        \n",
    "        rows_sum = current_row_sum\n",
    "    #     print(rows_sum)\n",
    "\n",
    "\n",
    "    print(max(rows_sum))"
   ]
  },
  {
   "cell_type": "code",
   "execution_count": 34,
   "metadata": {},
   "outputs": [
    {
     "name": "stdout",
     "output_type": "stream",
     "text": [
      "1074\n",
      "CPU times: user 792 µs, sys: 46 µs, total: 838 µs\n",
      "Wall time: 547 µs\n"
     ]
    }
   ],
   "source": [
    "%time max_path_sum_in_file('./triangle.txt')"
   ]
  },
  {
   "cell_type": "code",
   "execution_count": null,
   "metadata": {},
   "outputs": [],
   "source": []
  }
 ],
 "metadata": {
  "kernelspec": {
   "display_name": "Python 3",
   "language": "python",
   "name": "python3"
  },
  "language_info": {
   "codemirror_mode": {
    "name": "ipython",
    "version": 3
   },
   "file_extension": ".py",
   "mimetype": "text/x-python",
   "name": "python",
   "nbconvert_exporter": "python",
   "pygments_lexer": "ipython3",
   "version": "3.7.6"
  }
 },
 "nbformat": 4,
 "nbformat_minor": 4
}
