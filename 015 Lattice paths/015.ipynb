{
 "cells": [
  {
   "cell_type": "markdown",
   "metadata": {},
   "source": [
    "# Lattice paths\n",
    "---\n",
    "<div class=\"problem_content\" role=\"problem\">\n",
    "<p>Starting in the top left corner of a 2×2 grid, and only being able to move to the right and down, there are exactly 6 routes to the bottom right corner.</p>\n",
    "<div style=\"text-align:center;\">\n",
    "<img alt=\"\" class=\"dark_img\" src=\"explain.png\"/></div>\n",
    "<p>How many such routes are there through a 20×20 grid?</p>\n",
    "</div>\n"
   ]
  },
  {
   "cell_type": "markdown",
   "metadata": {},
   "source": [
    "# The Explanation\n",
    "---\n",
    "![](law.jpg)\n",
    "![](explain.png)\n",
    "\n",
    "▶ 👉 _ _\n",
    "<br>\n",
    "\n",
    "👉 ▶ _ _\n",
    "<br>\n",
    "👉 _ ▶ _\n",
    "<br>\n",
    "👉 _ _ ▶\n",
    "<br>\n",
    "_ 👉 ▶ _\n",
    "<br>\n",
    "_ 👉 _ ▶\n",
    "<br>\n",
    "_ _ 👉 ▶"
   ]
  },
  {
   "cell_type": "markdown",
   "metadata": {},
   "source": [
    "# The Code\n",
    "---\n"
   ]
  },
  {
   "cell_type": "code",
   "execution_count": 4,
   "metadata": {},
   "outputs": [],
   "source": [
    "from math import factorial\n",
    "\n",
    "def number_of_paths_in(square_grid_length):\n",
    "    '''\n",
    "    يقوم بحساب عدد المسارات فى \n",
    "    رقعة مربعة طول ضلعها معطى للدالة\n",
    "    '''\n",
    "    # مجموع الخطوات حتى يصل الى النهاية\n",
    "    total_steps = 2 * square_grid_length\n",
    "    \n",
    "    #  قانون التوافيق\n",
    "    total_paths =\\\n",
    "    factorial(total_steps) // (factorial(total_steps - square_grid_length) * factorial(square_grid_length)) \n",
    "    \n",
    "    return total_paths"
   ]
  },
  {
   "cell_type": "code",
   "execution_count": 6,
   "metadata": {},
   "outputs": [
    {
     "name": "stdout",
     "output_type": "stream",
     "text": [
      "Wall time: 0 ns\n"
     ]
    },
    {
     "data": {
      "text/plain": [
       "137846528820"
      ]
     },
     "execution_count": 6,
     "metadata": {},
     "output_type": "execute_result"
    }
   ],
   "source": [
    "%time number_of_paths_in(20)"
   ]
  },
  {
   "cell_type": "code",
   "execution_count": null,
   "metadata": {},
   "outputs": [],
   "source": []
  }
 ],
 "metadata": {
  "hide_input": false,
  "kernelspec": {
   "display_name": "Python 3",
   "language": "python",
   "name": "python3"
  },
  "language_info": {
   "codemirror_mode": {
    "name": "ipython",
    "version": 3
   },
   "file_extension": ".py",
   "mimetype": "text/x-python",
   "name": "python",
   "nbconvert_exporter": "python",
   "pygments_lexer": "ipython3",
   "version": "3.7.6"
  },
  "toc": {
   "base_numbering": 1,
   "nav_menu": {},
   "number_sections": true,
   "sideBar": false,
   "skip_h1_title": false,
   "title_cell": "Table of Contents",
   "title_sidebar": "Contents",
   "toc_cell": false,
   "toc_position": {},
   "toc_section_display": true,
   "toc_window_display": false
  }
 },
 "nbformat": 4,
 "nbformat_minor": 4
}
