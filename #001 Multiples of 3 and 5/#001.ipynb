{
 "cells": [
  {
   "cell_type": "markdown",
   "metadata": {},
   "source": [
    "# Multiples of 3 and 5\n",
    "---\n",
    "If we list all the natural numbers below 10 that are multiples of 3 or 5, we get 3, 5, 6 and 9. The sum of these multiples is 23. Find the sum of all the multiples of 3 or 5 below 1000.\n",
    "\n"
   ]
  },
  {
   "cell_type": "markdown",
   "metadata": {},
   "source": [
    "# Explanation\n",
    "---\n",
    "\\begin{align}\n",
    "\\Huge{\\text{Summation of Multiples}}\n",
    "\\end{align}\n",
    "\n",
    "\\begin{align}\n",
    "\\text{ Sum of Number (3)} = 3 + 6 + 9 = 3 \\times (1+2+3) \n",
    "\\end{align}\n",
    "\n",
    "\\begin{align}\n",
    "\\because (1 + 2 + 3) \\text{ is an Arithmetic progression} \n",
    "\\end{align}\n",
    "\n",
    "\\begin{align}\n",
    "\\therefore (1 + 2 + 3) = \\frac{3}{2} \\times (1 + 3)\n",
    "\\end{align}\n",
    "\n",
    "\\begin{align}\n",
    "\\therefore \\text{Summation} = 3 \\times {[\\frac{3}{2} \\times (1 + 3)]}\n",
    "\\end{align}\n",
    "\n",
    "\\begin{align}\n",
    "\\Large{\\text{ So the General Equation is:}}\n",
    "\\end{align}\n",
    "\n",
    "\\begin{eqnarray}\n",
    "\\text{Summation} = 3 \\times {[\\frac{n}{2} \\times (1 + n)]} \\\\\n",
    "\\end{eqnarray}\n",
    "\\begin{align}\n",
    "\\text{where n is the last multiple of (3) in a given range}\n",
    "\\end{align}\n",
    "\n"
   ]
  },
  {
   "cell_type": "code",
   "execution_count": 1,
   "metadata": {
    "hide_input": true
   },
   "outputs": [
    {
     "data": {
      "image/jpeg": "[encoded data removed]",
      "text/html": [
       "\n",
       "        <iframe\n",
       "            width=\"800\"\n",
       "            height=\"500\"\n",
       "            src=\"https://www.youtube.com/embed/iVHY1IkkIrU\"\n",
       "            frameborder=\"0\"\n",
       "            allowfullscreen\n",
       "        ></iframe>\n",
       "        "
      ],
      "text/plain": [
       "<IPython.lib.display.YouTubeVideo at 0x21a3348d248>"
      ]
     },
     "execution_count": 1,
     "metadata": {},
     "output_type": "execute_result"
    }
   ],
   "source": [
    "from IPython.display import YouTubeVideo\n",
    "\n",
    "YouTubeVideo('iVHY1IkkIrU', width=800, height=500)"
   ]
  },
  {
   "cell_type": "markdown",
   "metadata": {},
   "source": [
    "# The Code"
   ]
  },
  {
   "cell_type": "code",
   "execution_count": 3,
   "metadata": {},
   "outputs": [
    {
     "data": {
      "text/plain": [
       "2.3333333333333333e+35"
      ]
     },
     "execution_count": 3,
     "metadata": {},
     "output_type": "execute_result"
    }
   ],
   "source": [
    "# %%timeit\n",
    "final_number = 1000\n",
    "\n",
    "last_mul_3 = (final_number - 1) // 3\n",
    "last_mul_5 = (final_number - 1) // 5\n",
    "last_mul_15 = (final_number - 1) // 15\n",
    "\n",
    "sum_3 = 3 * (last_mul_3 / 2) * (1 + last_mul_3)\n",
    "sum_5 = 5 * (last_mul_5 / 2) * (1 + last_mul_5)\n",
    "sum_15 = 15 * (last_mul_15 / 2) * (1 + last_mul_15)\n",
    "\n",
    "total_sum = sum_3 + sum_5 - sum_15\n",
    "total_sum"
   ]
  },
  {
   "cell_type": "markdown",
   "metadata": {},
   "source": [
    "# Why not to use a loop? 🤔"
   ]
  },
  {
   "cell_type": "code",
   "execution_count": 16,
   "metadata": {},
   "outputs": [
    {
     "data": {
      "text/plain": [
       "233168"
      ]
     },
     "execution_count": 16,
     "metadata": {},
     "output_type": "execute_result"
    }
   ],
   "source": [
    "# %%timeit\n",
    "result = 0\n",
    "for i in range(final_number):\n",
    "    if i % 3 == 0 or i % 5 == 0:\n",
    "        result += i\n",
    "\n",
    "result"
   ]
  },
  {
   "cell_type": "markdown",
   "metadata": {},
   "source": [
    "# The Loop is 4 Times Slower (if not even worse 😂)"
   ]
  },
  {
   "cell_type": "code",
   "execution_count": 6,
   "metadata": {},
   "outputs": [
    {
     "data": {
      "text/plain": [
       "3.8505747126436787"
      ]
     },
     "execution_count": 6,
     "metadata": {},
     "output_type": "execute_result"
    }
   ],
   "source": [
    "gauss = 348e-9\n",
    "loop = 1.34e-6\n",
    "loop / gauss"
   ]
  }
 ],
 "metadata": {
  "hide_input": false,
  "kernelspec": {
   "display_name": "Python 3",
   "language": "python",
   "name": "python3"
  },
  "language_info": {
   "codemirror_mode": {
    "name": "ipython",
    "version": 3
   },
   "file_extension": ".py",
   "mimetype": "text/x-python",
   "name": "python",
   "nbconvert_exporter": "python",
   "pygments_lexer": "ipython3",
   "version": "3.7.6"
  },
  "toc": {
   "base_numbering": 1,
   "nav_menu": {},
   "number_sections": true,
   "sideBar": false,
   "skip_h1_title": false,
   "title_cell": "Table of Contents",
   "title_sidebar": "Contents",
   "toc_cell": false,
   "toc_position": {},
   "toc_section_display": true,
   "toc_window_display": false
  }
 },
 "nbformat": 4,
 "nbformat_minor": 4
}
