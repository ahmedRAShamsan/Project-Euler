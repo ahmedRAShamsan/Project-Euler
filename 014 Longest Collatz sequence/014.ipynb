{
 "cells": [
  {
   "cell_type": "markdown",
   "metadata": {},
   "source": [
    "# Longest Collatz sequence\n",
    "---\n",
    "<div class=\"problem_content\" role=\"problem\">\n",
    "<p>The following iterative sequence is defined for the set of positive integers:</p>\n",
    "<p style=\"margin-left:50px;\"><var>n</var> → <var>n</var>/2 (<var>n</var> is even)<br><var>n</var> → 3<var>n</var> + 1 (<var>n</var> is odd)</br></p>\n",
    "<p>Using the rule above and starting with 13, we generate the following sequence:</p>\n",
    "<div style=\"text-align:center;\">13 → 40 → 20 → 10 → 5 → 16 → 8 → 4 → 2 → 1</div>\n",
    "<p>It can be seen that this sequence (starting at 13 and finishing at 1) contains 10 terms. Although it has not been proved yet (Collatz Problem), it is thought that all starting numbers finish at 1.</p>\n",
    "<p>Which starting number, under one million, produces the longest chain?</p>\n",
    "<p class=\"note\"><b>NOTE:</b> Once the chain starts the terms are allowed to go above one million.</p>\n",
    "</div>\n"
   ]
  },
  {
   "cell_type": "markdown",
   "metadata": {},
   "source": [
    "# الشرح\n",
    "---\n",
    "![](./proof.png)\n",
    "\n",
    "\n"
   ]
  },
  {
   "cell_type": "markdown",
   "metadata": {},
   "source": [
    "# الحل\n",
    "---\n"
   ]
  },
  {
   "cell_type": "code",
   "execution_count": 59,
   "metadata": {
    "code_folding": []
   },
   "outputs": [],
   "source": [
    "def longest_collatz(the_end):\n",
    "    '''\n",
    "    تقوم تلك الدالة بحساب العدد\n",
    "    الذى سيأخذ أكبر عدد من الخطوات حتى يصل الى رقم 1 \n",
    "    ملاحظة\n",
    "    ======\n",
    "    الرقم المعطى للدالة غير مضمون فى الحسابات\n",
    "    '''\n",
    "    \n",
    "    the_end = int(the_end)\n",
    "    \n",
    "    tree = {1:1}\n",
    "    for i in range(2, the_end):\n",
    "        # عدد الخطوات\n",
    "        length = 1 \n",
    "        \n",
    "        # اخذنا نسخة من الرقم لاننا سنقوم\n",
    "        #بتغيير قيمة تلك النشخة بدلا من الرقم الاصلى\n",
    "        n = i\n",
    "        while n != 1:\n",
    "            # تأكد اذا ما كان الرقم قد حسبناه مسبقا أم لا\n",
    "            if tree.get(n, False):\n",
    "                length += tree[n]\n",
    "                break\n",
    "            \n",
    "            # القاعدة\n",
    "            n =  (n // 2) if n % 2 == 0 else (3*n + 1) \n",
    "            length += 1\n",
    "\n",
    "        tree[i] = length\n",
    "    \n",
    "#     tree    # ===> للتوضيح فقط\n",
    "    \n",
    "    # تقوم بارجاع المفتاح صاحب اكبر قيمة فى القاموس \n",
    "    return max(tree, key=tree.get)\n"
   ]
  },
  {
   "cell_type": "code",
   "execution_count": 60,
   "metadata": {},
   "outputs": [
    {
     "name": "stdout",
     "output_type": "stream",
     "text": [
      "Wall time: 2.4 s\n"
     ]
    },
    {
     "data": {
      "text/plain": [
       "837799"
      ]
     },
     "execution_count": 60,
     "metadata": {},
     "output_type": "execute_result"
    }
   ],
   "source": [
    "%time longest_collatz(1e6)"
   ]
  },
  {
   "cell_type": "code",
   "execution_count": 58,
   "metadata": {},
   "outputs": [
    {
     "data": {
      "text/plain": [
       "12"
      ]
     },
     "execution_count": 58,
     "metadata": {},
     "output_type": "execute_result"
    }
   ],
   "source": [
    "max({1:6, 12:0})"
   ]
  }
 ],
 "metadata": {
  "hide_input": false,
  "kernelspec": {
   "display_name": "Python 3",
   "language": "python",
   "name": "python3"
  },
  "language_info": {
   "codemirror_mode": {
    "name": "ipython",
    "version": 3
   },
   "file_extension": ".py",
   "mimetype": "text/x-python",
   "name": "python",
   "nbconvert_exporter": "python",
   "pygments_lexer": "ipython3",
   "version": "3.7.6"
  }
 },
 "nbformat": 4,
 "nbformat_minor": 4
}
