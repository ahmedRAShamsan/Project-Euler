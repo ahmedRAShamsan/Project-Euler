{
 "cells": [
  {
   "cell_type": "markdown",
   "metadata": {},
   "source": [
    "# The Problem\n",
    "---\n",
    "A palindromic number reads the same both ways.\n",
    "\n",
    "The largest palindrome made from the product of `two 2-digit numbers is 9009 = 91 × 99`.\n",
    "\n",
    "`Find the largest palindrome made from the product of two 3-digit numbers.`"
   ]
  },
  {
   "cell_type": "markdown",
   "metadata": {},
   "source": [
    "# Facts\n",
    "---\n",
    "02/02/2020\n",
    "\n",
    "11/11/1111 ==> 909 years ago\n",
    "\n",
    "12/12/2121\n",
    "\n",
    "03/03/3030\n"
   ]
  },
  {
   "cell_type": "markdown",
   "metadata": {},
   "source": [
    "# Explanation\n",
    "---\n",
    "\\begin{align}\n",
    "\\LARGE{\\text{The General Form of The Number is: IJKKJI}}\n",
    "\\end{align}\n",
    "\n",
    "\\begin{align}\n",
    "Number = I + J \\times 10 + K \\times 100 + K \\times 1000 + J \\times 10,000 + I \\times 100,000 \n",
    "\\end{align}\n",
    "\\begin{align}\n",
    "Number = 100,001 \\times I + 10,010 \\times J + 1100 \\times K\n",
    "\\end{align}\n",
    "\n",
    "\\begin{align}\n",
    "Number = 11 \\times (9091 \\times I + 910 \\times J + 100 \\times K)\n",
    "\\end{align}\n",
    "\n",
    "---\n",
    "\\begin{align}\n",
    "\\LARGE{\\text{So the number is divisible by 11}}\n",
    "\\end{align}"
   ]
  },
  {
   "cell_type": "markdown",
   "metadata": {},
   "source": [
    "# The Code"
   ]
  },
  {
   "cell_type": "markdown",
   "metadata": {},
   "source": [
    "## Helper Functions"
   ]
  },
  {
   "cell_type": "code",
   "execution_count": 11,
   "metadata": {},
   "outputs": [
    {
     "data": {
      "text/plain": [
       "True"
      ]
     },
     "execution_count": 11,
     "metadata": {},
     "output_type": "execute_result"
    },
    {
     "data": {
      "text/plain": [
       "True"
      ]
     },
     "execution_count": 11,
     "metadata": {},
     "output_type": "execute_result"
    }
   ],
   "source": [
    "def is_palindromic(number):\n",
    "    number_str = str(number)\n",
    "    return number_str == number_str[::-1]\n",
    "\n",
    "\n",
    "def optimized_is_palindromic(number):\n",
    "    reverse = 0\n",
    "    i = number\n",
    "    \n",
    "    while i > 0:\n",
    "        reverse = reverse * 10 + i % 10\n",
    "        i //= 10\n",
    "        \n",
    "    return reverse == number\n",
    "\n",
    "x = 565\n",
    "is_palindromic(x)\n",
    "optimized_is_palindromic(x)"
   ]
  },
  {
   "cell_type": "code",
   "execution_count": 12,
   "metadata": {},
   "outputs": [
    {
     "data": {
      "text/plain": [
       "906609"
      ]
     },
     "execution_count": 12,
     "metadata": {},
     "output_type": "execute_result"
    }
   ],
   "source": [
    "result = 0\n",
    "\n",
    "\n",
    "for i in range(990, 99, -11):\n",
    "    for j in range(999, 99, -1):\n",
    "        product = i * j\n",
    "        \n",
    "        if product < result:\n",
    "            break\n",
    "            \n",
    "        if optimized_is_palindromic(product):\n",
    "            result = product\n",
    "            break\n",
    "\n",
    "            \n",
    "result\n",
    "        "
   ]
  },
  {
   "cell_type": "code",
   "execution_count": null,
   "metadata": {},
   "outputs": [],
   "source": []
  }
 ],
 "metadata": {
  "hide_input": false,
  "kernelspec": {
   "display_name": "Python 3",
   "language": "python",
   "name": "python3"
  },
  "language_info": {
   "codemirror_mode": {
    "name": "ipython",
    "version": 3
   },
   "file_extension": ".py",
   "mimetype": "text/x-python",
   "name": "python",
   "nbconvert_exporter": "python",
   "pygments_lexer": "ipython3",
   "version": "3.7.6"
  },
  "toc": {
   "base_numbering": 1,
   "nav_menu": {},
   "number_sections": true,
   "sideBar": false,
   "skip_h1_title": false,
   "title_cell": "Table of Contents",
   "title_sidebar": "Contents",
   "toc_cell": false,
   "toc_position": {},
   "toc_section_display": true,
   "toc_window_display": false
  }
 },
 "nbformat": 4,
 "nbformat_minor": 4
}
